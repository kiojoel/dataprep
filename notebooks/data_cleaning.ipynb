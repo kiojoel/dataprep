{
 "cells": [
  {
   "cell_type": "code",
   "execution_count": 1,
   "metadata": {},
   "outputs": [],
   "source": [
    "import pandas as pd\n",
    "import sys\n",
    "sys.path.append('..src')\n",
    "from missing_values import fill_missing_values"
   ]
  },
  {
   "cell_type": "code",
   "execution_count": 2,
   "metadata": {},
   "outputs": [
    {
     "data": {
      "text/html": [
       "<div>\n",
       "<style scoped>\n",
       "    .dataframe tbody tr th:only-of-type {\n",
       "        vertical-align: middle;\n",
       "    }\n",
       "\n",
       "    .dataframe tbody tr th {\n",
       "        vertical-align: top;\n",
       "    }\n",
       "\n",
       "    .dataframe thead th {\n",
       "        text-align: right;\n",
       "    }\n",
       "</style>\n",
       "<table border=\"1\" class=\"dataframe\">\n",
       "  <thead>\n",
       "    <tr style=\"text-align: right;\">\n",
       "      <th></th>\n",
       "      <th>person_age</th>\n",
       "      <th>person_income</th>\n",
       "      <th>person_home_ownership</th>\n",
       "      <th>person_emp_length</th>\n",
       "      <th>loan_intent</th>\n",
       "      <th>loan_grade</th>\n",
       "      <th>loan_amnt</th>\n",
       "      <th>loan_int_rate</th>\n",
       "      <th>loan_status</th>\n",
       "      <th>loan_percent_income</th>\n",
       "      <th>cb_person_default_on_file</th>\n",
       "      <th>cb_person_cred_hist_length</th>\n",
       "    </tr>\n",
       "  </thead>\n",
       "  <tbody>\n",
       "    <tr>\n",
       "      <th>0</th>\n",
       "      <td>22</td>\n",
       "      <td>59000</td>\n",
       "      <td>RENT</td>\n",
       "      <td>123.0</td>\n",
       "      <td>PERSONAL</td>\n",
       "      <td>D</td>\n",
       "      <td>35000</td>\n",
       "      <td>16.02</td>\n",
       "      <td>1</td>\n",
       "      <td>0.59</td>\n",
       "      <td>Y</td>\n",
       "      <td>3</td>\n",
       "    </tr>\n",
       "    <tr>\n",
       "      <th>1</th>\n",
       "      <td>21</td>\n",
       "      <td>9600</td>\n",
       "      <td>OWN</td>\n",
       "      <td>5.0</td>\n",
       "      <td>EDUCATION</td>\n",
       "      <td>B</td>\n",
       "      <td>1000</td>\n",
       "      <td>11.14</td>\n",
       "      <td>0</td>\n",
       "      <td>0.10</td>\n",
       "      <td>N</td>\n",
       "      <td>2</td>\n",
       "    </tr>\n",
       "    <tr>\n",
       "      <th>2</th>\n",
       "      <td>25</td>\n",
       "      <td>9600</td>\n",
       "      <td>MORTGAGE</td>\n",
       "      <td>1.0</td>\n",
       "      <td>MEDICAL</td>\n",
       "      <td>C</td>\n",
       "      <td>5500</td>\n",
       "      <td>12.87</td>\n",
       "      <td>1</td>\n",
       "      <td>0.57</td>\n",
       "      <td>N</td>\n",
       "      <td>3</td>\n",
       "    </tr>\n",
       "    <tr>\n",
       "      <th>3</th>\n",
       "      <td>23</td>\n",
       "      <td>65500</td>\n",
       "      <td>RENT</td>\n",
       "      <td>4.0</td>\n",
       "      <td>MEDICAL</td>\n",
       "      <td>C</td>\n",
       "      <td>35000</td>\n",
       "      <td>15.23</td>\n",
       "      <td>1</td>\n",
       "      <td>0.53</td>\n",
       "      <td>N</td>\n",
       "      <td>2</td>\n",
       "    </tr>\n",
       "    <tr>\n",
       "      <th>4</th>\n",
       "      <td>24</td>\n",
       "      <td>54400</td>\n",
       "      <td>RENT</td>\n",
       "      <td>8.0</td>\n",
       "      <td>MEDICAL</td>\n",
       "      <td>C</td>\n",
       "      <td>35000</td>\n",
       "      <td>14.27</td>\n",
       "      <td>1</td>\n",
       "      <td>0.55</td>\n",
       "      <td>Y</td>\n",
       "      <td>4</td>\n",
       "    </tr>\n",
       "  </tbody>\n",
       "</table>\n",
       "</div>"
      ],
      "text/plain": [
       "   person_age  person_income person_home_ownership  person_emp_length  \\\n",
       "0          22          59000                  RENT              123.0   \n",
       "1          21           9600                   OWN                5.0   \n",
       "2          25           9600              MORTGAGE                1.0   \n",
       "3          23          65500                  RENT                4.0   \n",
       "4          24          54400                  RENT                8.0   \n",
       "\n",
       "  loan_intent loan_grade  loan_amnt  loan_int_rate  loan_status  \\\n",
       "0    PERSONAL          D      35000          16.02            1   \n",
       "1   EDUCATION          B       1000          11.14            0   \n",
       "2     MEDICAL          C       5500          12.87            1   \n",
       "3     MEDICAL          C      35000          15.23            1   \n",
       "4     MEDICAL          C      35000          14.27            1   \n",
       "\n",
       "   loan_percent_income cb_person_default_on_file  cb_person_cred_hist_length  \n",
       "0                 0.59                         Y                           3  \n",
       "1                 0.10                         N                           2  \n",
       "2                 0.57                         N                           3  \n",
       "3                 0.53                         N                           2  \n",
       "4                 0.55                         Y                           4  "
      ]
     },
     "execution_count": 2,
     "metadata": {},
     "output_type": "execute_result"
    }
   ],
   "source": [
    "df = pd.read_csv('../data/credit_risk_dataset.csv')\n",
    "df.head()"
   ]
  },
  {
   "cell_type": "code",
   "execution_count": 3,
   "metadata": {},
   "outputs": [
    {
     "data": {
      "text/plain": [
       "(32581, 12)"
      ]
     },
     "execution_count": 3,
     "metadata": {},
     "output_type": "execute_result"
    }
   ],
   "source": [
    "df.shape"
   ]
  },
  {
   "cell_type": "code",
   "execution_count": 4,
   "metadata": {},
   "outputs": [
    {
     "data": {
      "text/plain": [
       "person_age                       0\n",
       "person_income                    0\n",
       "person_home_ownership            0\n",
       "person_emp_length              895\n",
       "loan_intent                      0\n",
       "loan_grade                       0\n",
       "loan_amnt                        0\n",
       "loan_int_rate                 3116\n",
       "loan_status                      0\n",
       "loan_percent_income              0\n",
       "cb_person_default_on_file        0\n",
       "cb_person_cred_hist_length       0\n",
       "dtype: int64"
      ]
     },
     "execution_count": 4,
     "metadata": {},
     "output_type": "execute_result"
    }
   ],
   "source": [
    "df.isnull().sum()"
   ]
  },
  {
   "cell_type": "code",
   "execution_count": 5,
   "metadata": {},
   "outputs": [],
   "source": [
    "df = fill_missing_values(df, method='mean', columns=['person_emp_length','loan_int_rate'])"
   ]
  },
  {
   "cell_type": "code",
   "execution_count": 6,
   "metadata": {},
   "outputs": [
    {
     "data": {
      "text/plain": [
       "person_age                    0\n",
       "person_income                 0\n",
       "person_home_ownership         0\n",
       "person_emp_length             0\n",
       "loan_intent                   0\n",
       "loan_grade                    0\n",
       "loan_amnt                     0\n",
       "loan_int_rate                 0\n",
       "loan_status                   0\n",
       "loan_percent_income           0\n",
       "cb_person_default_on_file     0\n",
       "cb_person_cred_hist_length    0\n",
       "dtype: int64"
      ]
     },
     "execution_count": 6,
     "metadata": {},
     "output_type": "execute_result"
    }
   ],
   "source": [
    "df.isnull().sum()"
   ]
  },
  {
   "cell_type": "code",
   "execution_count": 7,
   "metadata": {},
   "outputs": [
    {
     "data": {
      "text/plain": [
       "count    32581.000000\n",
       "mean        27.734600\n",
       "std          6.348078\n",
       "min         20.000000\n",
       "25%         23.000000\n",
       "50%         26.000000\n",
       "75%         30.000000\n",
       "max        144.000000\n",
       "Name: person_age, dtype: float64"
      ]
     },
     "execution_count": 7,
     "metadata": {},
     "output_type": "execute_result"
    }
   ],
   "source": [
    "df['person_age'].describe()"
   ]
  },
  {
   "cell_type": "code",
   "execution_count": 8,
   "metadata": {},
   "outputs": [
    {
     "data": {
      "text/plain": [
       "count    32581.000000\n",
       "mean         4.789686\n",
       "std          4.085333\n",
       "min          0.000000\n",
       "25%          2.000000\n",
       "50%          4.000000\n",
       "75%          7.000000\n",
       "max        123.000000\n",
       "Name: person_emp_length, dtype: float64"
      ]
     },
     "execution_count": 8,
     "metadata": {},
     "output_type": "execute_result"
    }
   ],
   "source": [
    "df['person_emp_length'].describe()"
   ]
  },
  {
   "cell_type": "code",
   "execution_count": 9,
   "metadata": {},
   "outputs": [],
   "source": [
    "from outliers import detect_outliers_iqr, detect_outliers_zscores, detect_outliers_isolation_forest, handle_outliers, remove_outliers"
   ]
  },
  {
   "cell_type": "code",
   "execution_count": 10,
   "metadata": {},
   "outputs": [
    {
     "name": "stdout",
     "output_type": "stream",
     "text": [
      "       person_age  person_income person_home_ownership  person_emp_length  \\\n",
      "81            144         250000                  RENT                4.0   \n",
      "183           144         200000              MORTGAGE                4.0   \n",
      "575           123          80004                  RENT                2.0   \n",
      "747           123          78000                  RENT                7.0   \n",
      "29121          50         900000              MORTGAGE               11.0   \n",
      "...           ...            ...                   ...                ...   \n",
      "32576          57          53000              MORTGAGE                1.0   \n",
      "32577          54         120000              MORTGAGE                4.0   \n",
      "32578          65          76000                  RENT                3.0   \n",
      "32579          56         150000              MORTGAGE                5.0   \n",
      "32580          66          42000                  RENT                2.0   \n",
      "\n",
      "             loan_intent loan_grade  loan_amnt  loan_int_rate  loan_status  \\\n",
      "81               VENTURE          C       4800      13.570000            0   \n",
      "183            EDUCATION          B       6000      11.860000            0   \n",
      "575            EDUCATION          B      20400      10.250000            0   \n",
      "747              VENTURE          B      20000      11.011695            0   \n",
      "29121  DEBTCONSOLIDATION          B      30000      12.690000            0   \n",
      "...                  ...        ...        ...            ...          ...   \n",
      "32576           PERSONAL          C       5800      13.160000            0   \n",
      "32577           PERSONAL          A      17625       7.490000            0   \n",
      "32578    HOMEIMPROVEMENT          B      35000      10.990000            1   \n",
      "32579           PERSONAL          B      15000      11.480000            0   \n",
      "32580            MEDICAL          B       6475       9.990000            0   \n",
      "\n",
      "       loan_percent_income cb_person_default_on_file  \\\n",
      "81                    0.02                         N   \n",
      "183                   0.03                         N   \n",
      "575                   0.25                         N   \n",
      "747                   0.26                         N   \n",
      "29121                 0.03                         N   \n",
      "...                    ...                       ...   \n",
      "32576                 0.11                         N   \n",
      "32577                 0.15                         N   \n",
      "32578                 0.46                         N   \n",
      "32579                 0.10                         N   \n",
      "32580                 0.15                         N   \n",
      "\n",
      "       cb_person_cred_hist_length  \n",
      "81                              3  \n",
      "183                             2  \n",
      "575                             3  \n",
      "747                             4  \n",
      "29121                          15  \n",
      "...                           ...  \n",
      "32576                          30  \n",
      "32577                          19  \n",
      "32578                          28  \n",
      "32579                          26  \n",
      "32580                          30  \n",
      "\n",
      "[1494 rows x 12 columns]\n"
     ]
    }
   ],
   "source": [
    "outliers_iqr = detect_outliers_iqr(df, 'person_age')\n",
    "print(outliers_iqr)"
   ]
  },
  {
   "cell_type": "code",
   "execution_count": 11,
   "metadata": {},
   "outputs": [
    {
     "name": "stdout",
     "output_type": "stream",
     "text": [
      "       person_age  person_income person_home_ownership  person_emp_length  \\\n",
      "81            144         250000                  RENT                4.0   \n",
      "183           144         200000              MORTGAGE                4.0   \n",
      "575           123          80004                  RENT                2.0   \n",
      "747           123          78000                  RENT                7.0   \n",
      "29121          50         900000              MORTGAGE               11.0   \n",
      "...           ...            ...                   ...                ...   \n",
      "32576          57          53000              MORTGAGE                1.0   \n",
      "32577          54         120000              MORTGAGE                4.0   \n",
      "32578          65          76000                  RENT                3.0   \n",
      "32579          56         150000              MORTGAGE                5.0   \n",
      "32580          66          42000                  RENT                2.0   \n",
      "\n",
      "             loan_intent loan_grade  loan_amnt  loan_int_rate  loan_status  \\\n",
      "81               VENTURE          C       4800      13.570000            0   \n",
      "183            EDUCATION          B       6000      11.860000            0   \n",
      "575            EDUCATION          B      20400      10.250000            0   \n",
      "747              VENTURE          B      20000      11.011695            0   \n",
      "29121  DEBTCONSOLIDATION          B      30000      12.690000            0   \n",
      "...                  ...        ...        ...            ...          ...   \n",
      "32576           PERSONAL          C       5800      13.160000            0   \n",
      "32577           PERSONAL          A      17625       7.490000            0   \n",
      "32578    HOMEIMPROVEMENT          B      35000      10.990000            1   \n",
      "32579           PERSONAL          B      15000      11.480000            0   \n",
      "32580            MEDICAL          B       6475       9.990000            0   \n",
      "\n",
      "       loan_percent_income cb_person_default_on_file  \\\n",
      "81                    0.02                         N   \n",
      "183                   0.03                         N   \n",
      "575                   0.25                         N   \n",
      "747                   0.26                         N   \n",
      "29121                 0.03                         N   \n",
      "...                    ...                       ...   \n",
      "32576                 0.11                         N   \n",
      "32577                 0.15                         N   \n",
      "32578                 0.46                         N   \n",
      "32579                 0.10                         N   \n",
      "32580                 0.15                         N   \n",
      "\n",
      "       cb_person_cred_hist_length    z_score  \n",
      "81                              3  18.315335  \n",
      "183                             2  18.315335  \n",
      "575                             3  15.007197  \n",
      "747                             4  15.007197  \n",
      "29121                          15   3.507477  \n",
      "...                           ...        ...  \n",
      "32576                          30   4.610190  \n",
      "32577                          19   4.137599  \n",
      "32578                          28   5.870433  \n",
      "32579                          26   4.452660  \n",
      "32580                          30   6.027964  \n",
      "\n",
      "[558 rows x 13 columns]\n"
     ]
    }
   ],
   "source": [
    "outliers_zscores = detect_outliers_zscores(df, 'person_age')\n",
    "print(outliers_zscores)"
   ]
  },
  {
   "cell_type": "code",
   "execution_count": 12,
   "metadata": {},
   "outputs": [
    {
     "name": "stdout",
     "output_type": "stream",
     "text": [
      "       person_age  person_income person_home_ownership  person_emp_length  \\\n",
      "0              22          59000                  RENT              123.0   \n",
      "1              21           9600                   OWN                5.0   \n",
      "5              21           9900                   OWN                2.0   \n",
      "9              21          10000                   OWN                6.0   \n",
      "10             22          85000                  RENT                6.0   \n",
      "...           ...            ...                   ...                ...   \n",
      "32576          57          53000              MORTGAGE                1.0   \n",
      "32577          54         120000              MORTGAGE                4.0   \n",
      "32578          65          76000                  RENT                3.0   \n",
      "32579          56         150000              MORTGAGE                5.0   \n",
      "32580          66          42000                  RENT                2.0   \n",
      "\n",
      "           loan_intent loan_grade  loan_amnt  loan_int_rate  loan_status  \\\n",
      "0             PERSONAL          D      35000          16.02            1   \n",
      "1            EDUCATION          B       1000          11.14            0   \n",
      "5              VENTURE          A       2500           7.14            1   \n",
      "9              VENTURE          D       1600          14.74            1   \n",
      "10             VENTURE          B      35000          10.37            1   \n",
      "...                ...        ...        ...            ...          ...   \n",
      "32576         PERSONAL          C       5800          13.16            0   \n",
      "32577         PERSONAL          A      17625           7.49            0   \n",
      "32578  HOMEIMPROVEMENT          B      35000          10.99            1   \n",
      "32579         PERSONAL          B      15000          11.48            0   \n",
      "32580          MEDICAL          B       6475           9.99            0   \n",
      "\n",
      "       loan_percent_income cb_person_default_on_file  \\\n",
      "0                     0.59                         Y   \n",
      "1                     0.10                         N   \n",
      "5                     0.25                         N   \n",
      "9                     0.16                         N   \n",
      "10                    0.41                         N   \n",
      "...                    ...                       ...   \n",
      "32576                 0.11                         N   \n",
      "32577                 0.15                         N   \n",
      "32578                 0.46                         N   \n",
      "32579                 0.10                         N   \n",
      "32580                 0.15                         N   \n",
      "\n",
      "       cb_person_cred_hist_length  outlier  \n",
      "0                               3       -1  \n",
      "1                               2       -1  \n",
      "5                               2       -1  \n",
      "9                               3       -1  \n",
      "10                              4       -1  \n",
      "...                           ...      ...  \n",
      "32576                          30       -1  \n",
      "32577                          19       -1  \n",
      "32578                          28       -1  \n",
      "32579                          26       -1  \n",
      "32580                          30       -1  \n",
      "\n",
      "[15637 rows x 13 columns]\n"
     ]
    }
   ],
   "source": [
    "outliers_isolation_forest = detect_outliers_isolation_forest(df, 'person_age')\n",
    "print(outliers_isolation_forest)"
   ]
  },
  {
   "cell_type": "code",
   "execution_count": 13,
   "metadata": {},
   "outputs": [
    {
     "name": "stdout",
     "output_type": "stream",
     "text": [
      "       person_age  person_income person_home_ownership  person_emp_length  \\\n",
      "0              22          59000                  RENT              123.0   \n",
      "210            21         192000              MORTGAGE              123.0   \n",
      "17834          34         948000              MORTGAGE               18.0   \n",
      "17877          34         334000                   OWN               18.0   \n",
      "17888          34          61200                  RENT               18.0   \n",
      "...           ...            ...                   ...                ...   \n",
      "32515          53         106000              MORTGAGE               38.0   \n",
      "32516          52          29000                   OWN               23.0   \n",
      "32534          76          75000                  RENT               23.0   \n",
      "32539          61         148000              MORTGAGE               30.0   \n",
      "32562          61         160000              MORTGAGE               30.0   \n",
      "\n",
      "             loan_intent loan_grade  loan_amnt  loan_int_rate  loan_status  \\\n",
      "0               PERSONAL          D      35000          16.02            1   \n",
      "210              VENTURE          A      20000           6.54            0   \n",
      "17834           PERSONAL          B       2000           9.99            0   \n",
      "17877          EDUCATION          C      18000          12.68            0   \n",
      "17888            MEDICAL          B      30000          11.71            1   \n",
      "...                  ...        ...        ...            ...          ...   \n",
      "32515           PERSONAL          B      20000           9.88            0   \n",
      "32516           PERSONAL          A       7000           7.49            0   \n",
      "32534            MEDICAL          A      15000           8.94            0   \n",
      "32539  DEBTCONSOLIDATION          B      24000          10.38            1   \n",
      "32562           PERSONAL          B      24000          10.38            0   \n",
      "\n",
      "       loan_percent_income cb_person_default_on_file  \\\n",
      "0                     0.59                         Y   \n",
      "210                   0.10                         N   \n",
      "17834                 0.00                         N   \n",
      "17877                 0.05                         Y   \n",
      "17888                 0.49                         N   \n",
      "...                    ...                       ...   \n",
      "32515                 0.19                         N   \n",
      "32516                 0.24                         N   \n",
      "32534                 0.20                         N   \n",
      "32539                 0.16                         N   \n",
      "32562                 0.15                         N   \n",
      "\n",
      "       cb_person_cred_hist_length    z_score  \n",
      "0                               3  28.935738  \n",
      "210                             4  28.935738  \n",
      "17834                           7   3.233645  \n",
      "17877                          10   3.233645  \n",
      "17888                           8   3.233645  \n",
      "...                           ...        ...  \n",
      "32515                          23   8.129282  \n",
      "32516                          20   4.457554  \n",
      "32534                          25   4.457554  \n",
      "32539                          20   6.171027  \n",
      "32562                          21   6.171027  \n",
      "\n",
      "[321 rows x 13 columns]\n"
     ]
    }
   ],
   "source": [
    "outliers_zscores = detect_outliers_zscores(df, 'person_emp_length')\n",
    "print(outliers_zscores)"
   ]
  },
  {
   "cell_type": "code",
   "execution_count": 14,
   "metadata": {},
   "outputs": [
    {
     "data": {
      "text/plain": [
       "60"
      ]
     },
     "execution_count": 14,
     "metadata": {},
     "output_type": "execute_result"
    }
   ],
   "source": [
    "df_cleaned = remove_outliers(df, 'person_age', 60)\n",
    "max(df_cleaned['person_age'])"
   ]
  },
  {
   "cell_type": "code",
   "execution_count": 15,
   "metadata": {},
   "outputs": [
    {
     "data": {
      "text/plain": [
       "60"
      ]
     },
     "execution_count": 15,
     "metadata": {},
     "output_type": "execute_result"
    }
   ],
   "source": [
    "max(df_cleaned['person_age'])"
   ]
  },
  {
   "cell_type": "code",
   "execution_count": 16,
   "metadata": {},
   "outputs": [
    {
     "data": {
      "text/plain": [
       "count    32511.000000\n",
       "mean        27.640214\n",
       "std          5.956044\n",
       "min         20.000000\n",
       "25%         23.000000\n",
       "50%         26.000000\n",
       "75%         30.000000\n",
       "max         60.000000\n",
       "Name: person_age, dtype: float64"
      ]
     },
     "execution_count": 16,
     "metadata": {},
     "output_type": "execute_result"
    }
   ],
   "source": [
    "df_cleaned['person_age'].describe()"
   ]
  },
  {
   "cell_type": "code",
   "execution_count": 17,
   "metadata": {},
   "outputs": [
    {
     "data": {
      "text/plain": [
       "14.0"
      ]
     },
     "execution_count": 17,
     "metadata": {},
     "output_type": "execute_result"
    }
   ],
   "source": [
    "df_cleaned = handle_outliers(df_cleaned, 'person_emp_length', method='remove')\n",
    "max(df_cleaned['person_emp_length'])"
   ]
  },
  {
   "cell_type": "code",
   "execution_count": 18,
   "metadata": {},
   "outputs": [
    {
     "data": {
      "text/plain": [
       "count    31666.000000\n",
       "mean         4.442272\n",
       "std          3.395190\n",
       "min          0.000000\n",
       "25%          2.000000\n",
       "50%          4.000000\n",
       "75%          7.000000\n",
       "max         14.000000\n",
       "Name: person_emp_length, dtype: float64"
      ]
     },
     "execution_count": 18,
     "metadata": {},
     "output_type": "execute_result"
    }
   ],
   "source": [
    "df_cleaned['person_emp_length'].describe()\n"
   ]
  },
  {
   "cell_type": "code",
   "execution_count": 19,
   "metadata": {},
   "outputs": [
    {
     "data": {
      "text/html": [
       "<div>\n",
       "<style scoped>\n",
       "    .dataframe tbody tr th:only-of-type {\n",
       "        vertical-align: middle;\n",
       "    }\n",
       "\n",
       "    .dataframe tbody tr th {\n",
       "        vertical-align: top;\n",
       "    }\n",
       "\n",
       "    .dataframe thead th {\n",
       "        text-align: right;\n",
       "    }\n",
       "</style>\n",
       "<table border=\"1\" class=\"dataframe\">\n",
       "  <thead>\n",
       "    <tr style=\"text-align: right;\">\n",
       "      <th></th>\n",
       "      <th>person_age</th>\n",
       "      <th>person_income</th>\n",
       "      <th>person_home_ownership</th>\n",
       "      <th>person_emp_length</th>\n",
       "      <th>loan_intent</th>\n",
       "      <th>loan_grade</th>\n",
       "      <th>loan_amnt</th>\n",
       "      <th>loan_int_rate</th>\n",
       "      <th>loan_status</th>\n",
       "      <th>loan_percent_income</th>\n",
       "      <th>cb_person_default_on_file</th>\n",
       "      <th>cb_person_cred_hist_length</th>\n",
       "    </tr>\n",
       "  </thead>\n",
       "  <tbody>\n",
       "    <tr>\n",
       "      <th>1</th>\n",
       "      <td>21</td>\n",
       "      <td>9600</td>\n",
       "      <td>OWN</td>\n",
       "      <td>5.0</td>\n",
       "      <td>EDUCATION</td>\n",
       "      <td>B</td>\n",
       "      <td>1000</td>\n",
       "      <td>11.14</td>\n",
       "      <td>0</td>\n",
       "      <td>0.10</td>\n",
       "      <td>N</td>\n",
       "      <td>2</td>\n",
       "    </tr>\n",
       "    <tr>\n",
       "      <th>2</th>\n",
       "      <td>25</td>\n",
       "      <td>9600</td>\n",
       "      <td>MORTGAGE</td>\n",
       "      <td>1.0</td>\n",
       "      <td>MEDICAL</td>\n",
       "      <td>C</td>\n",
       "      <td>5500</td>\n",
       "      <td>12.87</td>\n",
       "      <td>1</td>\n",
       "      <td>0.57</td>\n",
       "      <td>N</td>\n",
       "      <td>3</td>\n",
       "    </tr>\n",
       "    <tr>\n",
       "      <th>3</th>\n",
       "      <td>23</td>\n",
       "      <td>65500</td>\n",
       "      <td>RENT</td>\n",
       "      <td>4.0</td>\n",
       "      <td>MEDICAL</td>\n",
       "      <td>C</td>\n",
       "      <td>35000</td>\n",
       "      <td>15.23</td>\n",
       "      <td>1</td>\n",
       "      <td>0.53</td>\n",
       "      <td>N</td>\n",
       "      <td>2</td>\n",
       "    </tr>\n",
       "    <tr>\n",
       "      <th>4</th>\n",
       "      <td>24</td>\n",
       "      <td>54400</td>\n",
       "      <td>RENT</td>\n",
       "      <td>8.0</td>\n",
       "      <td>MEDICAL</td>\n",
       "      <td>C</td>\n",
       "      <td>35000</td>\n",
       "      <td>14.27</td>\n",
       "      <td>1</td>\n",
       "      <td>0.55</td>\n",
       "      <td>Y</td>\n",
       "      <td>4</td>\n",
       "    </tr>\n",
       "    <tr>\n",
       "      <th>5</th>\n",
       "      <td>21</td>\n",
       "      <td>9900</td>\n",
       "      <td>OWN</td>\n",
       "      <td>2.0</td>\n",
       "      <td>VENTURE</td>\n",
       "      <td>A</td>\n",
       "      <td>2500</td>\n",
       "      <td>7.14</td>\n",
       "      <td>1</td>\n",
       "      <td>0.25</td>\n",
       "      <td>N</td>\n",
       "      <td>2</td>\n",
       "    </tr>\n",
       "  </tbody>\n",
       "</table>\n",
       "</div>"
      ],
      "text/plain": [
       "   person_age  person_income person_home_ownership  person_emp_length  \\\n",
       "1          21           9600                   OWN                5.0   \n",
       "2          25           9600              MORTGAGE                1.0   \n",
       "3          23          65500                  RENT                4.0   \n",
       "4          24          54400                  RENT                8.0   \n",
       "5          21           9900                   OWN                2.0   \n",
       "\n",
       "  loan_intent loan_grade  loan_amnt  loan_int_rate  loan_status  \\\n",
       "1   EDUCATION          B       1000          11.14            0   \n",
       "2     MEDICAL          C       5500          12.87            1   \n",
       "3     MEDICAL          C      35000          15.23            1   \n",
       "4     MEDICAL          C      35000          14.27            1   \n",
       "5     VENTURE          A       2500           7.14            1   \n",
       "\n",
       "   loan_percent_income cb_person_default_on_file  cb_person_cred_hist_length  \n",
       "1                 0.10                         N                           2  \n",
       "2                 0.57                         N                           3  \n",
       "3                 0.53                         N                           2  \n",
       "4                 0.55                         Y                           4  \n",
       "5                 0.25                         N                           2  "
      ]
     },
     "execution_count": 19,
     "metadata": {},
     "output_type": "execute_result"
    }
   ],
   "source": [
    "df_cleaned.head()"
   ]
  },
  {
   "cell_type": "code",
   "execution_count": 20,
   "metadata": {},
   "outputs": [
    {
     "data": {
      "text/plain": [
       "(31666, 12)"
      ]
     },
     "execution_count": 20,
     "metadata": {},
     "output_type": "execute_result"
    }
   ],
   "source": [
    "df_cleaned.shape"
   ]
  },
  {
   "cell_type": "code",
   "execution_count": 21,
   "metadata": {},
   "outputs": [],
   "source": [
    "from normalization import normalize_data"
   ]
  },
  {
   "cell_type": "code",
   "execution_count": 22,
   "metadata": {},
   "outputs": [],
   "source": [
    "# Standard scaling (mean=0, std=1)\n",
    "df_normalize = normalize_data(df_cleaned, method='standard', columns=['person_age', 'person_income'])"
   ]
  },
  {
   "cell_type": "code",
   "execution_count": 23,
   "metadata": {},
   "outputs": [
    {
     "data": {
      "text/html": [
       "<div>\n",
       "<style scoped>\n",
       "    .dataframe tbody tr th:only-of-type {\n",
       "        vertical-align: middle;\n",
       "    }\n",
       "\n",
       "    .dataframe tbody tr th {\n",
       "        vertical-align: top;\n",
       "    }\n",
       "\n",
       "    .dataframe thead th {\n",
       "        text-align: right;\n",
       "    }\n",
       "</style>\n",
       "<table border=\"1\" class=\"dataframe\">\n",
       "  <thead>\n",
       "    <tr style=\"text-align: right;\">\n",
       "      <th></th>\n",
       "      <th>person_age</th>\n",
       "      <th>person_income</th>\n",
       "      <th>person_home_ownership</th>\n",
       "      <th>person_emp_length</th>\n",
       "      <th>loan_intent</th>\n",
       "      <th>loan_grade</th>\n",
       "      <th>loan_amnt</th>\n",
       "      <th>loan_int_rate</th>\n",
       "      <th>loan_status</th>\n",
       "      <th>loan_percent_income</th>\n",
       "      <th>cb_person_default_on_file</th>\n",
       "      <th>cb_person_cred_hist_length</th>\n",
       "    </tr>\n",
       "  </thead>\n",
       "  <tbody>\n",
       "    <tr>\n",
       "      <th>1</th>\n",
       "      <td>-1.105402</td>\n",
       "      <td>-1.102053</td>\n",
       "      <td>OWN</td>\n",
       "      <td>5.0</td>\n",
       "      <td>EDUCATION</td>\n",
       "      <td>B</td>\n",
       "      <td>1000</td>\n",
       "      <td>11.14</td>\n",
       "      <td>0</td>\n",
       "      <td>0.10</td>\n",
       "      <td>N</td>\n",
       "      <td>2</td>\n",
       "    </tr>\n",
       "    <tr>\n",
       "      <th>2</th>\n",
       "      <td>-0.416099</td>\n",
       "      <td>-1.102053</td>\n",
       "      <td>MORTGAGE</td>\n",
       "      <td>1.0</td>\n",
       "      <td>MEDICAL</td>\n",
       "      <td>C</td>\n",
       "      <td>5500</td>\n",
       "      <td>12.87</td>\n",
       "      <td>1</td>\n",
       "      <td>0.57</td>\n",
       "      <td>N</td>\n",
       "      <td>3</td>\n",
       "    </tr>\n",
       "    <tr>\n",
       "      <th>3</th>\n",
       "      <td>-0.760751</td>\n",
       "      <td>0.005339</td>\n",
       "      <td>RENT</td>\n",
       "      <td>4.0</td>\n",
       "      <td>MEDICAL</td>\n",
       "      <td>C</td>\n",
       "      <td>35000</td>\n",
       "      <td>15.23</td>\n",
       "      <td>1</td>\n",
       "      <td>0.53</td>\n",
       "      <td>N</td>\n",
       "      <td>2</td>\n",
       "    </tr>\n",
       "    <tr>\n",
       "      <th>4</th>\n",
       "      <td>-0.588425</td>\n",
       "      <td>-0.214555</td>\n",
       "      <td>RENT</td>\n",
       "      <td>8.0</td>\n",
       "      <td>MEDICAL</td>\n",
       "      <td>C</td>\n",
       "      <td>35000</td>\n",
       "      <td>14.27</td>\n",
       "      <td>1</td>\n",
       "      <td>0.55</td>\n",
       "      <td>Y</td>\n",
       "      <td>4</td>\n",
       "    </tr>\n",
       "    <tr>\n",
       "      <th>5</th>\n",
       "      <td>-1.105402</td>\n",
       "      <td>-1.096110</td>\n",
       "      <td>OWN</td>\n",
       "      <td>2.0</td>\n",
       "      <td>VENTURE</td>\n",
       "      <td>A</td>\n",
       "      <td>2500</td>\n",
       "      <td>7.14</td>\n",
       "      <td>1</td>\n",
       "      <td>0.25</td>\n",
       "      <td>N</td>\n",
       "      <td>2</td>\n",
       "    </tr>\n",
       "  </tbody>\n",
       "</table>\n",
       "</div>"
      ],
      "text/plain": [
       "   person_age  person_income person_home_ownership  person_emp_length  \\\n",
       "1   -1.105402      -1.102053                   OWN                5.0   \n",
       "2   -0.416099      -1.102053              MORTGAGE                1.0   \n",
       "3   -0.760751       0.005339                  RENT                4.0   \n",
       "4   -0.588425      -0.214555                  RENT                8.0   \n",
       "5   -1.105402      -1.096110                   OWN                2.0   \n",
       "\n",
       "  loan_intent loan_grade  loan_amnt  loan_int_rate  loan_status  \\\n",
       "1   EDUCATION          B       1000          11.14            0   \n",
       "2     MEDICAL          C       5500          12.87            1   \n",
       "3     MEDICAL          C      35000          15.23            1   \n",
       "4     MEDICAL          C      35000          14.27            1   \n",
       "5     VENTURE          A       2500           7.14            1   \n",
       "\n",
       "   loan_percent_income cb_person_default_on_file  cb_person_cred_hist_length  \n",
       "1                 0.10                         N                           2  \n",
       "2                 0.57                         N                           3  \n",
       "3                 0.53                         N                           2  \n",
       "4                 0.55                         Y                           4  \n",
       "5                 0.25                         N                           2  "
      ]
     },
     "execution_count": 23,
     "metadata": {},
     "output_type": "execute_result"
    }
   ],
   "source": [
    "df_normalize.head()"
   ]
  },
  {
   "cell_type": "code",
   "execution_count": 24,
   "metadata": {},
   "outputs": [],
   "source": [
    "from encoding import encode_data"
   ]
  },
  {
   "cell_type": "code",
   "execution_count": 25,
   "metadata": {},
   "outputs": [],
   "source": [
    "df_label_encoded = encode_data(df_normalize, method='onehot', columns= ['person_home_ownership', 'loan_intent'])\n",
    "df_onehot_encoded = encode_data(df_label_encoded, method='label', columns= ['loan_grade', 'cb_person_default_on_file'])"
   ]
  },
  {
   "cell_type": "code",
   "execution_count": 26,
   "metadata": {},
   "outputs": [
    {
     "data": {
      "text/html": [
       "<div>\n",
       "<style scoped>\n",
       "    .dataframe tbody tr th:only-of-type {\n",
       "        vertical-align: middle;\n",
       "    }\n",
       "\n",
       "    .dataframe tbody tr th {\n",
       "        vertical-align: top;\n",
       "    }\n",
       "\n",
       "    .dataframe thead th {\n",
       "        text-align: right;\n",
       "    }\n",
       "</style>\n",
       "<table border=\"1\" class=\"dataframe\">\n",
       "  <thead>\n",
       "    <tr style=\"text-align: right;\">\n",
       "      <th></th>\n",
       "      <th>person_age</th>\n",
       "      <th>person_income</th>\n",
       "      <th>person_emp_length</th>\n",
       "      <th>loan_grade</th>\n",
       "      <th>loan_amnt</th>\n",
       "      <th>loan_int_rate</th>\n",
       "      <th>loan_status</th>\n",
       "      <th>loan_percent_income</th>\n",
       "      <th>cb_person_default_on_file</th>\n",
       "      <th>cb_person_cred_hist_length</th>\n",
       "      <th>person_home_ownership_MORTGAGE</th>\n",
       "      <th>person_home_ownership_OTHER</th>\n",
       "      <th>person_home_ownership_OWN</th>\n",
       "      <th>person_home_ownership_RENT</th>\n",
       "      <th>loan_intent_DEBTCONSOLIDATION</th>\n",
       "      <th>loan_intent_EDUCATION</th>\n",
       "      <th>loan_intent_HOMEIMPROVEMENT</th>\n",
       "      <th>loan_intent_MEDICAL</th>\n",
       "      <th>loan_intent_PERSONAL</th>\n",
       "      <th>loan_intent_VENTURE</th>\n",
       "    </tr>\n",
       "  </thead>\n",
       "  <tbody>\n",
       "    <tr>\n",
       "      <th>1</th>\n",
       "      <td>-1.105402</td>\n",
       "      <td>-1.102053</td>\n",
       "      <td>5.0</td>\n",
       "      <td>1</td>\n",
       "      <td>1000</td>\n",
       "      <td>11.14</td>\n",
       "      <td>0</td>\n",
       "      <td>0.10</td>\n",
       "      <td>0</td>\n",
       "      <td>2</td>\n",
       "      <td>False</td>\n",
       "      <td>False</td>\n",
       "      <td>True</td>\n",
       "      <td>False</td>\n",
       "      <td>False</td>\n",
       "      <td>True</td>\n",
       "      <td>False</td>\n",
       "      <td>False</td>\n",
       "      <td>False</td>\n",
       "      <td>False</td>\n",
       "    </tr>\n",
       "    <tr>\n",
       "      <th>2</th>\n",
       "      <td>-0.416099</td>\n",
       "      <td>-1.102053</td>\n",
       "      <td>1.0</td>\n",
       "      <td>2</td>\n",
       "      <td>5500</td>\n",
       "      <td>12.87</td>\n",
       "      <td>1</td>\n",
       "      <td>0.57</td>\n",
       "      <td>0</td>\n",
       "      <td>3</td>\n",
       "      <td>True</td>\n",
       "      <td>False</td>\n",
       "      <td>False</td>\n",
       "      <td>False</td>\n",
       "      <td>False</td>\n",
       "      <td>False</td>\n",
       "      <td>False</td>\n",
       "      <td>True</td>\n",
       "      <td>False</td>\n",
       "      <td>False</td>\n",
       "    </tr>\n",
       "    <tr>\n",
       "      <th>3</th>\n",
       "      <td>-0.760751</td>\n",
       "      <td>0.005339</td>\n",
       "      <td>4.0</td>\n",
       "      <td>2</td>\n",
       "      <td>35000</td>\n",
       "      <td>15.23</td>\n",
       "      <td>1</td>\n",
       "      <td>0.53</td>\n",
       "      <td>0</td>\n",
       "      <td>2</td>\n",
       "      <td>False</td>\n",
       "      <td>False</td>\n",
       "      <td>False</td>\n",
       "      <td>True</td>\n",
       "      <td>False</td>\n",
       "      <td>False</td>\n",
       "      <td>False</td>\n",
       "      <td>True</td>\n",
       "      <td>False</td>\n",
       "      <td>False</td>\n",
       "    </tr>\n",
       "    <tr>\n",
       "      <th>4</th>\n",
       "      <td>-0.588425</td>\n",
       "      <td>-0.214555</td>\n",
       "      <td>8.0</td>\n",
       "      <td>2</td>\n",
       "      <td>35000</td>\n",
       "      <td>14.27</td>\n",
       "      <td>1</td>\n",
       "      <td>0.55</td>\n",
       "      <td>1</td>\n",
       "      <td>4</td>\n",
       "      <td>False</td>\n",
       "      <td>False</td>\n",
       "      <td>False</td>\n",
       "      <td>True</td>\n",
       "      <td>False</td>\n",
       "      <td>False</td>\n",
       "      <td>False</td>\n",
       "      <td>True</td>\n",
       "      <td>False</td>\n",
       "      <td>False</td>\n",
       "    </tr>\n",
       "    <tr>\n",
       "      <th>5</th>\n",
       "      <td>-1.105402</td>\n",
       "      <td>-1.096110</td>\n",
       "      <td>2.0</td>\n",
       "      <td>0</td>\n",
       "      <td>2500</td>\n",
       "      <td>7.14</td>\n",
       "      <td>1</td>\n",
       "      <td>0.25</td>\n",
       "      <td>0</td>\n",
       "      <td>2</td>\n",
       "      <td>False</td>\n",
       "      <td>False</td>\n",
       "      <td>True</td>\n",
       "      <td>False</td>\n",
       "      <td>False</td>\n",
       "      <td>False</td>\n",
       "      <td>False</td>\n",
       "      <td>False</td>\n",
       "      <td>False</td>\n",
       "      <td>True</td>\n",
       "    </tr>\n",
       "  </tbody>\n",
       "</table>\n",
       "</div>"
      ],
      "text/plain": [
       "   person_age  person_income  person_emp_length  loan_grade  loan_amnt  \\\n",
       "1   -1.105402      -1.102053                5.0           1       1000   \n",
       "2   -0.416099      -1.102053                1.0           2       5500   \n",
       "3   -0.760751       0.005339                4.0           2      35000   \n",
       "4   -0.588425      -0.214555                8.0           2      35000   \n",
       "5   -1.105402      -1.096110                2.0           0       2500   \n",
       "\n",
       "   loan_int_rate  loan_status  loan_percent_income  cb_person_default_on_file  \\\n",
       "1          11.14            0                 0.10                          0   \n",
       "2          12.87            1                 0.57                          0   \n",
       "3          15.23            1                 0.53                          0   \n",
       "4          14.27            1                 0.55                          1   \n",
       "5           7.14            1                 0.25                          0   \n",
       "\n",
       "   cb_person_cred_hist_length  person_home_ownership_MORTGAGE  \\\n",
       "1                           2                           False   \n",
       "2                           3                            True   \n",
       "3                           2                           False   \n",
       "4                           4                           False   \n",
       "5                           2                           False   \n",
       "\n",
       "   person_home_ownership_OTHER  person_home_ownership_OWN  \\\n",
       "1                        False                       True   \n",
       "2                        False                      False   \n",
       "3                        False                      False   \n",
       "4                        False                      False   \n",
       "5                        False                       True   \n",
       "\n",
       "   person_home_ownership_RENT  loan_intent_DEBTCONSOLIDATION  \\\n",
       "1                       False                          False   \n",
       "2                       False                          False   \n",
       "3                        True                          False   \n",
       "4                        True                          False   \n",
       "5                       False                          False   \n",
       "\n",
       "   loan_intent_EDUCATION  loan_intent_HOMEIMPROVEMENT  loan_intent_MEDICAL  \\\n",
       "1                   True                        False                False   \n",
       "2                  False                        False                 True   \n",
       "3                  False                        False                 True   \n",
       "4                  False                        False                 True   \n",
       "5                  False                        False                False   \n",
       "\n",
       "   loan_intent_PERSONAL  loan_intent_VENTURE  \n",
       "1                 False                False  \n",
       "2                 False                False  \n",
       "3                 False                False  \n",
       "4                 False                False  \n",
       "5                 False                 True  "
      ]
     },
     "execution_count": 26,
     "metadata": {},
     "output_type": "execute_result"
    }
   ],
   "source": [
    "df_onehot_encoded.head()"
   ]
  }
 ],
 "metadata": {
  "kernelspec": {
   "display_name": "Python 3",
   "language": "python",
   "name": "python3"
  },
  "language_info": {
   "codemirror_mode": {
    "name": "ipython",
    "version": 3
   },
   "file_extension": ".py",
   "mimetype": "text/x-python",
   "name": "python",
   "nbconvert_exporter": "python",
   "pygments_lexer": "ipython3",
   "version": "3.10.0"
  }
 },
 "nbformat": 4,
 "nbformat_minor": 2
}
